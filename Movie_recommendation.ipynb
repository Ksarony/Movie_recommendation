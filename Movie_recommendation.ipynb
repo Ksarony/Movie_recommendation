{
 "cells": [
  {
   "cell_type": "markdown",
   "metadata": {
    "application/vnd.databricks.v1+cell": {
     "cellMetadata": {},
     "inputWidgets": {},
     "nuid": "f11155fd-9334-4def-ab00-72a23197457d",
     "showTitle": false,
     "title": ""
    }
   },
   "source": [
    "### This Notebook serves as a tutorial for 2 purposes with Apache Spark\n",
    "1. It provides an analysis of the Movie Lens Dataset(It shows how the Aggregation methods are simple but very effective)\n",
    "2. Recommendation engine based on Collabrative filtering (ALS from MLlib)\n",
    "\n",
    "Some of the Links and references I have used are -\n",
    "1. Dataset can be found [here](https://grouplens.org/datasets/movielens/20m/) or at [kaggle](https://www.kaggle.com/grouplens/movielens-20m-dataset)\n",
    "2. edX Apache Spark course cs110 Assignment 2 (Movie Recommendation) I have used my own code from that notebook (Not providing my notebook link here just in case course is offered again with same Assignments) Side note -  It is one of the best and the most intense course series I have ever done.\n",
    "3. A More Scalable Way of Making Recommendations with MLlib - Xiangrui Meng [here](https://www.youtube.com/watch?v=Q0VXllYilM0&)\n",
    "4. I have used [Databricks community edition cloud](https://community.cloud.databricks.com). This is because we already have the required dataset mounted on the Cloud. Also, Databricks community edition has tons of features (I love the display feature) and the whole system is preconfigured.One important thing here (Also, a differentiating feature) is we do not need to create spark context or sql context object which is already created for us\n",
    "\n",
    "A caution Note- \n",
    "We won't do collect() here as that will push all the data back to the Driver which might cause out of memory error. "
   ]
  },
  {
   "cell_type": "code",
   "execution_count": 0,
   "metadata": {
    "application/vnd.databricks.v1+cell": {
     "cellMetadata": {
      "byteLimit": 2048000,
      "rowLimit": 10000
     },
     "inputWidgets": {},
     "nuid": "6048d6c5-b107-436d-a335-79e77fc42168",
     "showTitle": false,
     "title": ""
    }
   },
   "outputs": [
    {
     "output_type": "stream",
     "name": "stdout",
     "output_type": "stream",
     "text": [
      "<SparkContext master=local[8] appName=Databricks Shell>\n<pyspark.sql.context.SQLContext object at 0x7fcb5a8f0dc0>\n"
     ]
    }
   ],
   "source": [
    "#We already have sc and sqlContext for us here\n",
    "print (sc)\n",
    "print (sqlContext)\n",
    "import os"
   ]
  },
  {
   "cell_type": "markdown",
   "metadata": {
    "application/vnd.databricks.v1+cell": {
     "cellMetadata": {},
     "inputWidgets": {},
     "nuid": "39980a13-68f1-47c5-8dee-9f442e8b00c9",
     "showTitle": false,
     "title": ""
    }
   },
   "source": [
    "### Getting the data\n",
    "It is already mounted for us"
   ]
  },
  {
   "cell_type": "code",
   "execution_count": 0,
   "metadata": {
    "application/vnd.databricks.v1+cell": {
     "cellMetadata": {
      "byteLimit": 2048000,
      "rowLimit": 10000
     },
     "inputWidgets": {},
     "nuid": "40d4583d-58cd-4ecb-8ed9-67a6ad65cac5",
     "showTitle": false,
     "title": ""
    }
   },
   "outputs": [
    {
     "output_type": "stream",
     "name": "stdout",
     "output_type": "stream",
     "text": [
      "+------+-------+------+----------+\n|userId|movieId|rating| timestamp|\n+------+-------+------+----------+\n|     1|      2|   3.5|1112486027|\n|     1|     29|   3.5|1112484676|\n|     1|     32|   3.5|1112484819|\n|     1|     47|   3.5|1112484727|\n|     1|     50|   3.5|1112484580|\n|     1|    112|   3.5|1094785740|\n|     1|    151|   4.0|1094785734|\n|     1|    223|   4.0|1112485573|\n|     1|    253|   4.0|1112484940|\n|     1|    260|   4.0|1112484826|\n|     1|    293|   4.0|1112484703|\n|     1|    296|   4.0|1112484767|\n|     1|    318|   4.0|1112484798|\n|     1|    337|   3.5|1094785709|\n|     1|    367|   3.5|1112485980|\n|     1|    541|   4.0|1112484603|\n|     1|    589|   3.5|1112485557|\n|     1|    593|   3.5|1112484661|\n|     1|    653|   3.0|1094785691|\n|     1|    919|   3.5|1094785621|\n+------+-------+------+----------+\nonly showing top 20 rows\n\n+-------+--------------------+--------------------+\n|movieId|               title|              genres|\n+-------+--------------------+--------------------+\n|      1|    Toy Story (1995)|Adventure|Animati...|\n|      2|      Jumanji (1995)|Adventure|Childre...|\n|      3|Grumpier Old Men ...|      Comedy|Romance|\n|      4|Waiting to Exhale...|Comedy|Drama|Romance|\n|      5|Father of the Bri...|              Comedy|\n|      6|         Heat (1995)|Action|Crime|Thri...|\n|      7|      Sabrina (1995)|      Comedy|Romance|\n|      8| Tom and Huck (1995)|  Adventure|Children|\n|      9| Sudden Death (1995)|              Action|\n|     10|    GoldenEye (1995)|Action|Adventure|...|\n|     11|American Presiden...|Comedy|Drama|Romance|\n|     12|Dracula: Dead and...|       Comedy|Horror|\n|     13|        Balto (1995)|Adventure|Animati...|\n|     14|        Nixon (1995)|               Drama|\n|     15|Cutthroat Island ...|Action|Adventure|...|\n|     16|       Casino (1995)|         Crime|Drama|\n|     17|Sense and Sensibi...|       Drama|Romance|\n|     18|   Four Rooms (1995)|              Comedy|\n|     19|Ace Ventura: When...|              Comedy|\n|     20|  Money Train (1995)|Action|Comedy|Cri...|\n+-------+--------------------+--------------------+\nonly showing top 20 rows\n\n"
     ]
    }
   ],
   "source": [
    "# Assuming Spark 2.x and above with SparkSession available as 'spark'\n",
    "\n",
    "# Read the ratings file\n",
    "ratings_df = spark.read.csv('/databricks-datasets/cs110x/ml-20m/data-001/ratings.csv', header=True, inferSchema=True)\n",
    "\n",
    "# Read the movies file\n",
    "movies_df = spark.read.csv('/databricks-datasets/cs110x/ml-20m/data-001/movies.csv', header=True, inferSchema=True)\n",
    "\n",
    "# Show the first few rows of the DataFrames to verify\n",
    "ratings_df.show(5)\n",
    "movies_df.show(5)\n"
   ]
  },
  {
   "cell_type": "markdown",
   "metadata": {
    "application/vnd.databricks.v1+cell": {
     "cellMetadata": {},
     "inputWidgets": {},
     "nuid": "ff181b26-12dd-4c02-a683-4cb1617e589b",
     "showTitle": false,
     "title": ""
    }
   },
   "source": [
    "#### Data Exploration"
   ]
  },
  {
   "cell_type": "code",
   "execution_count": 0,
   "metadata": {
    "application/vnd.databricks.v1+cell": {
     "cellMetadata": {
      "byteLimit": 2048000,
      "rowLimit": 10000
     },
     "inputWidgets": {},
     "nuid": "4b5cd4f1-a7d8-4e36-85ea-a32005351242",
     "showTitle": false,
     "title": ""
    }
   },
   "outputs": [
    {
     "output_type": "stream",
     "name": "stdout",
     "output_type": "stream",
     "text": [
      "root\n |-- userId: integer (nullable = true)\n |-- movieId: integer (nullable = true)\n |-- rating: double (nullable = true)\n |-- timestamp: integer (nullable = true)\n\nroot\n |-- movieId: integer (nullable = true)\n |-- title: string (nullable = true)\n |-- genres: string (nullable = true)\n\n+------+-------+------+----------+\n|userId|movieId|rating| timestamp|\n+------+-------+------+----------+\n|     1|      2|   3.5|1112486027|\n|     1|     29|   3.5|1112484676|\n|     1|     32|   3.5|1112484819|\n|     1|     47|   3.5|1112484727|\n|     1|     50|   3.5|1112484580|\n+------+-------+------+----------+\nonly showing top 5 rows\n\n+-------+--------------------+--------------------+\n|movieId|               title|              genres|\n+-------+--------------------+--------------------+\n|      1|    Toy Story (1995)|Adventure|Animati...|\n|      2|      Jumanji (1995)|Adventure|Childre...|\n|      3|Grumpier Old Men ...|      Comedy|Romance|\n|      4|Waiting to Exhale...|Comedy|Drama|Romance|\n|      5|Father of the Bri...|              Comedy|\n+-------+--------------------+--------------------+\nonly showing top 5 rows\n\n+-------+-----------------+-----------------+------------------+--------------------+\n|summary|           userId|          movieId|            rating|           timestamp|\n+-------+-----------------+-----------------+------------------+--------------------+\n|  count|         20000263|         20000263|          20000263|            20000263|\n|   mean|69045.87258292554|9041.567330339605|3.5255285642993797|1.1009179216771157E9|\n| stddev|40038.62665316182|19789.47744541297|  1.05198891929425|1.6216942478273147E8|\n|    min|                1|                1|               0.5|           789652004|\n|    max|           138493|           131262|               5.0|          1427784002|\n+-------+-----------------+-----------------+------------------+--------------------+\n\nNumber of movies: 27278, Number of users: 138493\n"
     ]
    }
   ],
   "source": [
    "# Display the schema of the DataFrames\n",
    "ratings_df.printSchema()\n",
    "movies_df.printSchema()\n",
    "\n",
    "# Show the first few rows to understand the data\n",
    "ratings_df.show(5)\n",
    "movies_df.show(5)\n",
    "\n",
    "# Basic statistics for numerical columns\n",
    "ratings_df.describe().show()\n",
    "\n",
    "# Count the number of distinct movies and users\n",
    "num_movies = movies_df.select(\"movieId\").distinct().count()\n",
    "num_users = ratings_df.select(\"userId\").distinct().count()\n",
    "print(f\"Number of movies: {num_movies}, Number of users: {num_users}\")"
   ]
  },
  {
   "cell_type": "code",
   "execution_count": 0,
   "metadata": {
    "application/vnd.databricks.v1+cell": {
     "cellMetadata": {
      "byteLimit": 2048000,
      "rowLimit": 10000
     },
     "inputWidgets": {},
     "nuid": "6d4e715f-9085-45bc-8614-e5bcaa33dc72",
     "showTitle": false,
     "title": ""
    }
   },
   "outputs": [
    {
     "output_type": "display_data",
     "data": {
      "image/png": "[encoded data removed]"
     },
     "metadata": {
      "application/vnd.databricks.v1+output": {
       "addedWidgets": {},
       "arguments": {},
       "data": "data:image/png;base64,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\n",
       "datasetInfos": [],
       "metadata": {},
       "removedWidgets": [],
       "type": "image"
      }
     },
     "output_type": "display_data"
    },
    {
     "output_type": "stream",
     "name": "stdout",
     "output_type": "stream",
     "text": [
      "+-------+-----+\n|movieId|count|\n+-------+-----+\n|    296|67310|\n|    356|66172|\n|    318|63366|\n|    593|63299|\n|    480|59715|\n|    260|54502|\n|    110|53769|\n|    589|52244|\n|   2571|51334|\n|    527|50054|\n|      1|49695|\n|    457|49581|\n|    150|47777|\n|    780|47048|\n|     50|47006|\n|   1210|46839|\n|    592|46054|\n|   1196|45313|\n|   2858|44987|\n|     32|44980|\n+-------+-----+\nonly showing top 20 rows\n\n+------+-----+\n|userId|count|\n+------+-----+\n|118205| 9254|\n|  8405| 7515|\n| 82418| 5646|\n|121535| 5520|\n|125794| 5491|\n| 74142| 5447|\n| 34576| 5356|\n|131904| 5330|\n| 83090| 5169|\n| 59477| 4988|\n|130767| 4785|\n| 79159| 4707|\n|  8963| 4524|\n| 15617| 4354|\n| 92011| 4236|\n| 71975| 4182|\n| 20132| 4101|\n| 46470| 4094|\n| 88820| 4093|\n| 63147| 3958|\n+------+-----+\nonly showing top 20 rows\n\n"
     ]
    }
   ],
   "source": [
    "import matplotlib.pyplot as plt\n",
    "import seaborn as sns\n",
    "\n",
    "# Convert ratings DataFrame to Pandas for visualization\n",
    "ratings_pd = ratings_df.toPandas()\n",
    "\n",
    "# Plotting the distribution of ratings\n",
    "plt.figure(figsize=(8, 6))\n",
    "sns.countplot(x='rating', data=ratings_pd)\n",
    "plt.title('Distribution of Ratings')\n",
    "plt.xlabel('Rating')\n",
    "plt.ylabel('Count')\n",
    "plt.show()\n",
    "\n",
    "# Number of ratings per movie\n",
    "ratings_per_movie = ratings_df.groupBy('movieId').count().orderBy('count', ascending=False)\n",
    "ratings_per_movie.show()\n",
    "\n",
    "# Number of ratings per user\n",
    "ratings_per_user = ratings_df.groupBy('userId').count().orderBy('count', ascending=False)\n",
    "ratings_per_user.show()"
   ]
  },
  {
   "cell_type": "code",
   "execution_count": 0,
   "metadata": {
    "application/vnd.databricks.v1+cell": {
     "cellMetadata": {
      "byteLimit": 2048000,
      "rowLimit": 10000
     },
     "inputWidgets": {},
     "nuid": "ed3cdfca-5ea9-46d1-b234-88f2dde91e87",
     "showTitle": false,
     "title": ""
    }
   },
   "outputs": [
    {
     "output_type": "stream",
     "name": "stdout",
     "output_type": "stream",
     "text": [
      "+------------------+------------------+\n|             genre|        avg_rating|\n+------------------+------------------+\n|             Crime|3.6745276025631113|\n|           Romance| 3.541802581902903|\n|          Thriller|  3.50711121809216|\n|         Adventure|3.5018926565473865|\n|             Drama|3.6742955093068264|\n|               War|3.8095307347384844|\n|       Documentary|3.7397176834178865|\n|           Fantasy|3.5059453358738244|\n|           Mystery| 3.663508921312903|\n|           Musical| 3.558090628821412|\n|         Animation|3.6174939235897994|\n|         Film-Noir|  3.96538126070082|\n|(no genres listed)|3.0069252077562325|\n|              IMAX| 3.655945983272606|\n|            Horror|3.2772238097518307|\n|           Western|3.5704980246109406|\n|            Comedy|3.4260113054324886|\n|          Children|3.4081137685270444|\n|            Action|  3.44386376493354|\n|            Sci-Fi|3.4367726714455005|\n+------------------+------------------+\n\n"
     ]
    }
   ],
   "source": [
    "from pyspark.sql.functions import avg\n",
    "\n",
    "# Join the ratings and movies DataFrames on the movieId column\n",
    "movie_ratings_df = ratings_df.join(movies_df, 'movieId')\n",
    "\n",
    "from pyspark.sql.functions import explode, split\n",
    "\n",
    "# Split the genres string into a list and then explode the list into separate rows\n",
    "movie_ratings_df = movie_ratings_df.withColumn(\"genre\", explode(split(\"genres\", \"\\|\")))\n",
    "\n",
    "# Group by genre and calculate the average rating\n",
    "genre_ratings = movie_ratings_df.groupBy('genre').agg(avg('rating').alias('avg_rating'))\n",
    "genre_ratings.show()"
   ]
  },
  {
   "cell_type": "code",
   "execution_count": 0,
   "metadata": {
    "application/vnd.databricks.v1+cell": {
     "cellMetadata": {
      "byteLimit": 2048000,
      "rowLimit": 10000
     },
     "inputWidgets": {},
     "nuid": "e22cb4d1-ef09-4d21-8ca9-f6e2378932c4",
     "showTitle": false,
     "title": ""
    }
   },
   "outputs": [
    {
     "output_type": "display_data",
     "data": {
      "image/png": "[encoded data removed]"
     },
     "metadata": {
      "application/vnd.databricks.v1+output": {
       "addedWidgets": {},
       "arguments": {},
       "data": "data:image/png;base64,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\n",
       "datasetInfos": [],
       "metadata": {},
       "removedWidgets": [],
       "type": "image"
      }
     },
     "output_type": "display_data"
    }
   ],
   "source": [
    "# Convert the Spark DataFrame to a Pandas DataFrame\n",
    "genre_ratings_pd = genre_ratings.toPandas()\n",
    "\n",
    "# Plotting\n",
    "plt.figure(figsize=(12, 8))\n",
    "sns.barplot(x='avg_rating', y='genre', data=genre_ratings_pd, ci=None, palette='muted', orient='h')\n",
    "plt.title('Average Movie Rating by Genre')\n",
    "plt.xlabel('Average Rating')\n",
    "plt.ylabel('Genre')\n",
    "plt.show()"
   ]
  },
  {
   "cell_type": "markdown",
   "metadata": {
    "application/vnd.databricks.v1+cell": {
     "cellMetadata": {},
     "inputWidgets": {},
     "nuid": "c224e5bf-00e9-43a7-9b43-946de20dcf0d",
     "showTitle": false,
     "title": ""
    }
   },
   "source": [
    "#### Data Preparation Enhancements"
   ]
  },
  {
   "cell_type": "code",
   "execution_count": 0,
   "metadata": {
    "application/vnd.databricks.v1+cell": {
     "cellMetadata": {
      "byteLimit": 2048000,
      "rowLimit": 10000
     },
     "inputWidgets": {},
     "nuid": "8d718944-dc91-48cb-bf00-68a5431cabe9",
     "showTitle": false,
     "title": ""
    }
   },
   "outputs": [
    {
     "output_type": "stream",
     "name": "stdout",
     "output_type": "stream",
     "text": [
      "+------+-------+------+\n|userId|movieId|rating|\n+------+-------+------+\n|     1|      2|   3.5|\n|     1|     29|   3.5|\n|     1|     32|   3.5|\n|     1|     47|   3.5|\n+------+-------+------+\nonly showing top 4 rows\n\n"
     ]
    }
   ],
   "source": [
    "from pyspark.sql.functions import col\n",
    "\n",
    "# Assuming 'ratings_df' is your initial DataFrame and you want to create 'ratings_df_final' without the timestamp column\n",
    "ratings_df_final = ratings_df.select(\n",
    "    col(\"userId\").cast(\"integer\"),\n",
    "    col(\"movieId\").cast(\"integer\"),\n",
    "    col(\"rating\").cast(\"double\")\n",
    ")\n",
    "\n",
    "# Now, 'ratings_df_final' is a DataFrame and you can use the show() method\n",
    "ratings_df_final.show(4)"
   ]
  },
  {
   "cell_type": "code",
   "execution_count": 0,
   "metadata": {
    "application/vnd.databricks.v1+cell": {
     "cellMetadata": {
      "byteLimit": 2048000,
      "rowLimit": 10000
     },
     "inputWidgets": {},
     "nuid": "d7b8a0d7-ba38-42f4-ac1b-9ed4670eabd9",
     "showTitle": false,
     "title": ""
    }
   },
   "outputs": [],
   "source": [
    "from pyspark.sql.functions import col\n",
    "\n",
    "# Filtering out movies with fewer than 10 ratings\n",
    "movies_with_ratings = ratings_df.groupBy('movieId').count().filter(\"`count` >= 800\").withColumnRenamed(\"count\", \"movie_count\")\n",
    "ratings_df_filtered = ratings_df.join(movies_with_ratings, 'movieId').filter(\"movie_count >= 800\")\n",
    "\n",
    "# Similarly, filtering out users with fewer than 10 ratings\n",
    "users_with_ratings = ratings_df_filtered.groupBy('userId').count().filter(\"`count` >= 25\").withColumnRenamed(\"count\", \"user_count\")\n",
    "ratings_df_final = ratings_df_filtered.join(users_with_ratings, 'userId').filter(\"user_count >= 25\").select(ratings_df_filtered[\"userId\"], \"movieId\", \"rating\")\n"
   ]
  },
  {
   "cell_type": "code",
   "execution_count": 0,
   "metadata": {
    "application/vnd.databricks.v1+cell": {
     "cellMetadata": {
      "byteLimit": 2048000,
      "rowLimit": 10000
     },
     "inputWidgets": {},
     "nuid": "90ffd1d0-dc81-42a4-94f6-d516eef8dd12",
     "showTitle": false,
     "title": ""
    }
   },
   "outputs": [
    {
     "output_type": "stream",
     "name": "stdout",
     "output_type": "stream",
     "text": [
      "+------+-------+------+\n|userId|movieId|rating|\n+------+-------+------+\n|   471|   1088|   2.0|\n|   471|   1580|   3.0|\n|   471|   1645|   3.0|\n|   471|   1959|   4.0|\n|   471|   2866|   4.0|\n+------+-------+------+\nonly showing top 5 rows\n\n"
     ]
    }
   ],
   "source": [
    "ratings_df_final.show(5)"
   ]
  },
  {
   "cell_type": "markdown",
   "metadata": {
    "application/vnd.databricks.v1+cell": {
     "cellMetadata": {},
     "inputWidgets": {},
     "nuid": "593e9944-1350-41d2-ac87-a5ea5970fbb1",
     "showTitle": false,
     "title": ""
    }
   },
   "source": [
    "#### Data Preparation"
   ]
  },
  {
   "cell_type": "code",
   "execution_count": 0,
   "metadata": {
    "application/vnd.databricks.v1+cell": {
     "cellMetadata": {
      "byteLimit": 2048000,
      "rowLimit": 10000
     },
     "inputWidgets": {},
     "nuid": "bb897698-17b7-4ff7-9cdc-fb2339d4058a",
     "showTitle": false,
     "title": ""
    }
   },
   "outputs": [],
   "source": [
    "# Check for missing values in the DataFrames\n",
    "for column in ratings_df_final.columns:\n",
    "    missing_count = ratings_df_final.filter(ratings_df_final[column].isNull()).count()\n",
    "    if missing_count > 0:\n",
    "        print(f\"Column {column} has {missing_count} missing values\")"
   ]
  },
  {
   "cell_type": "code",
   "execution_count": 0,
   "metadata": {
    "application/vnd.databricks.v1+cell": {
     "cellMetadata": {
      "byteLimit": 2048000,
      "rowLimit": 10000
     },
     "inputWidgets": {},
     "nuid": "cecf434b-32e7-4cd1-97b4-967ab585e9b0",
     "showTitle": false,
     "title": ""
    }
   },
   "outputs": [
    {
     "output_type": "stream",
     "name": "stdout",
     "output_type": "stream",
     "text": [
      "Training Data Count: 14200523\nTest Data Count: 3548564\n"
     ]
    }
   ],
   "source": [
    "# Split the final DataFrame into training and test sets\n",
    "(training_data, test_data) = ratings_df_final.randomSplit([0.8, 0.2], seed=1234)\n",
    "\n",
    "# Display the count of rows in each dataset to verify the split\n",
    "print(f\"Training Data Count: {training_data.count()}\")\n",
    "print(f\"Test Data Count: {test_data.count()}\")"
   ]
  },
  {
   "cell_type": "markdown",
   "metadata": {
    "application/vnd.databricks.v1+cell": {
     "cellMetadata": {},
     "inputWidgets": {},
     "nuid": "8f9d9463-dc41-489e-8d4d-b5ad95a3fc1b",
     "showTitle": false,
     "title": ""
    }
   },
   "source": [
    "#### Modeling"
   ]
  },
  {
   "cell_type": "code",
   "execution_count": 0,
   "metadata": {
    "application/vnd.databricks.v1+cell": {
     "cellMetadata": {
      "byteLimit": 2048000,
      "rowLimit": 10000
     },
     "inputWidgets": {},
     "nuid": "c439b9c6-3751-4ad7-ba8a-4b67daaa4d09",
     "showTitle": false,
     "title": ""
    }
   },
   "outputs": [
    {
     "output_type": "stream",
     "name": "stdout",
     "output_type": "stream",
     "text": [
      "Unexpected exception formatting exception. Falling back to standard exception\n"
     ]
    },
    {
     "output_type": "stream",
     "name": "stderr",
     "output_type": "stream",
     "text": [
      "Traceback (most recent call last):\n  File \"/databricks/python/lib/python3.9/site-packages/IPython/core/interactiveshell.py\", line 3378, in run_code\n    exec(code_obj, self.user_global_ns, self.user_ns)\n  File \"<command-3572662605254387>\", line 16, in <module>\n    rmse = evaluator.evaluate(predictions)\nNameError: name 'predictions' is not defined\n\nDuring handling of the above exception, another exception occurred:\n\nTraceback (most recent call last):\n  File \"/databricks/python/lib/python3.9/site-packages/IPython/core/interactiveshell.py\", line 1997, in showtraceback\n    stb = self.InteractiveTB.structured_traceback(\n  File \"/databricks/python/lib/python3.9/site-packages/IPython/core/ultratb.py\", line 1112, in structured_traceback\n    return FormattedTB.structured_traceback(\n  File \"/databricks/python/lib/python3.9/site-packages/IPython/core/ultratb.py\", line 1006, in structured_traceback\n    return VerboseTB.structured_traceback(\n  File \"/databricks/python/lib/python3.9/site-packages/IPython/core/ultratb.py\", line 859, in structured_traceback\n    formatted_exception = self.format_exception_as_a_whole(etype, evalue, etb, number_of_lines_of_context,\n  File \"/databricks/python/lib/python3.9/site-packages/IPython/core/ultratb.py\", line 812, in format_exception_as_a_whole\n    frames.append(self.format_record(r))\n  File \"/databricks/python/lib/python3.9/site-packages/IPython/core/ultratb.py\", line 730, in format_record\n    result += ''.join(_format_traceback_lines(frame_info.lines, Colors, self.has_colors, lvals))\n  File \"/databricks/python/lib/python3.9/site-packages/stack_data/utils.py\", line 145, in cached_property_wrapper\n    value = obj.__dict__[self.func.__name__] = self.func(obj)\n  File \"/databricks/python/lib/python3.9/site-packages/stack_data/core.py\", line 698, in lines\n    pieces = self.included_pieces\n  File \"/databricks/python/lib/python3.9/site-packages/stack_data/utils.py\", line 145, in cached_property_wrapper\n    value = obj.__dict__[self.func.__name__] = self.func(obj)\n  File \"/databricks/python/lib/python3.9/site-packages/stack_data/core.py\", line 649, in included_pieces\n    pos = scope_pieces.index(self.executing_piece)\n  File \"/databricks/python/lib/python3.9/site-packages/stack_data/utils.py\", line 145, in cached_property_wrapper\n    value = obj.__dict__[self.func.__name__] = self.func(obj)\n  File \"/databricks/python/lib/python3.9/site-packages/stack_data/core.py\", line 628, in executing_piece\n    return only(\n  File \"/databricks/python/lib/python3.9/site-packages/executing/executing.py\", line 164, in only\n    raise NotOneValueFound('Expected one value, found 0')\nexecuting.executing.NotOneValueFound: Expected one value, found 0\n"
     ]
    },
    {
     "output_type": "display_data",
     "data": {
      "text/plain": [
       ""
      ]
     },
     "metadata": {
      "application/vnd.databricks.v1+output": {
       "arguments": {},
       "data": "",
       "errorSummary": "<span class='ansi-red-fg'>NameError</span>: name 'predictions' is not defined",
       "errorTraceType": "ansi",
       "metadata": {},
       "type": "ipynbError"
      }
     },
     "output_type": "display_data"
    }
   ],
   "source": [
    "from pyspark.ml.recommendation import ALS\n",
    "\n",
    "# Enhanced ALS model initialization with additional parameters\n",
    "als_enhanced = ALS(userCol=\"userId\", itemCol=\"movieId\", ratingCol=\"rating\", nonnegative=True, implicitPrefs=False, coldStartStrategy=\"drop\", maxIter=4, regParam=0.1)\n",
    "\n",
    "# Fit the enhanced model to the training data\n",
    "model_enhanced = als_enhanced.fit(training_data)"
   ]
  },
  {
   "cell_type": "code",
   "execution_count": 0,
   "metadata": {
    "application/vnd.databricks.v1+cell": {
     "cellMetadata": {
      "byteLimit": 2048000,
      "rowLimit": 10000
     },
     "inputWidgets": {},
     "nuid": "72f2b798-8875-4cf8-80ea-e92b1ffdfa7f",
     "showTitle": false,
     "title": ""
    }
   },
   "outputs": [
    {
     "output_type": "stream",
     "name": "stdout",
     "output_type": "stream",
     "text": [
      "Enhanced model - Root-mean-square error = 0.8279425248318577\n"
     ]
    }
   ],
   "source": [
    "# Generate predictions on the test data with the enhanced model\n",
    "predictions_enhanced = model_enhanced.transform(test_data)\n",
    "\n",
    "# Evaluate the enhanced model using RMSE\n",
    "from pyspark.ml.evaluation import RegressionEvaluator\n",
    "\n",
    "evaluator = RegressionEvaluator(metricName=\"rmse\", labelCol=\"rating\", predictionCol=\"prediction\")\n",
    "rmse = evaluator.evaluate(predictions_enhanced)\n",
    "print(f\"Enhanced model - Root-mean-square error = {rmse}\")"
   ]
  },
  {
   "cell_type": "markdown",
   "metadata": {
    "application/vnd.databricks.v1+cell": {
     "cellMetadata": {},
     "inputWidgets": {},
     "nuid": "0dc5333c-173f-487c-ba1d-4b95211ef95c",
     "showTitle": false,
     "title": ""
    }
   },
   "source": [
    "#### Recommendation "
   ]
  },
  {
   "cell_type": "code",
   "execution_count": 0,
   "metadata": {
    "application/vnd.databricks.v1+cell": {
     "cellMetadata": {
      "byteLimit": 2048000,
      "rowLimit": 10000
     },
     "inputWidgets": {},
     "nuid": "92975225-8186-4fcc-9781-c91a556d557b",
     "showTitle": false,
     "title": ""
    }
   },
   "outputs": [
    {
     "output_type": "stream",
     "name": "stdout",
     "output_type": "stream",
     "text": [
      "My movie ratings:\n+------+-------+------+\n|userId|movieId|rating|\n+------+-------+------+\n|     0|   1193|   4.4|\n|     0|   2959|   4.0|\n|     0|    356|   5.0|\n|     0|    858|   2.0|\n+------+-------+------+\n\n"
     ]
    }
   ],
   "source": [
    "from pyspark.sql import Row\n",
    "my_user_id = 0\n",
    "\n",
    "# Note that the movie IDs are the *last* number on each line. A common error was to use the number of ratings as the movie ID.\n",
    "my_rated_movies = [\n",
    "     (0,1193,4.4),(0,2959,4.0),(0,356,5.0),(0,858,2.0)\n",
    "     # The format of each line is (my_user_id, movie ID, your rating)\n",
    "     ]\n",
    "\n",
    "my_ratings_df = sqlContext.createDataFrame(my_rated_movies, ['userId','movieId','rating'])\n",
    "print ('My movie ratings:')\n",
    "my_ratings_df.show()"
   ]
  },
  {
   "cell_type": "code",
   "execution_count": 0,
   "metadata": {
    "application/vnd.databricks.v1+cell": {
     "cellMetadata": {
      "byteLimit": 2048000,
      "rowLimit": 10000
     },
     "inputWidgets": {},
     "nuid": "2126ecbc-a4c5-41a4-bb56-92358cada2ee",
     "showTitle": false,
     "title": ""
    }
   },
   "outputs": [
    {
     "output_type": "stream",
     "name": "stdout",
     "output_type": "stream",
     "text": [
      "the train data has 4 more entries now\n"
     ]
    }
   ],
   "source": [
    "# Now adding my_ratings to the training_df\n",
    "training_with_my_ratings_df = training_data.unionAll(my_ratings_df)\n",
    "print(\"the train data has %s more entries now\" % (training_with_my_ratings_df.count() - training_data.count()))"
   ]
  },
  {
   "cell_type": "code",
   "execution_count": 0,
   "metadata": {
    "application/vnd.databricks.v1+cell": {
     "cellMetadata": {
      "byteLimit": 2048000,
      "rowLimit": 10000
     },
     "inputWidgets": {},
     "nuid": "f5857fea-5287-4907-a610-b65adcb66b3b",
     "showTitle": false,
     "title": ""
    }
   },
   "outputs": [
    {
     "output_type": "stream",
     "name": "stdout",
     "output_type": "stream",
     "text": [
      "Enhanced model - Root-mean-square error = 0.8238741532709573\n"
     ]
    }
   ],
   "source": [
    "# Enhanced ALS model initialization with additional parameters\n",
    "als_enhanced = ALS(userCol=\"userId\", itemCol=\"movieId\", ratingCol=\"rating\", nonnegative=True, implicitPrefs=False, coldStartStrategy=\"drop\", maxIter=4, regParam=0.1)\n",
    "\n",
    "# Fit the enhanced model to the training data\n",
    "model_my_ratings = als_enhanced.fit(training_with_my_ratings_df)\n",
    "\n",
    "# Generate predictions on the test data with the enhanced model\n",
    "predictions_my_ratings = model_my_ratings.transform(test_data)\n",
    "\n",
    "# Evaluate the model with my ratings using RMSE\n",
    "\n",
    "rmse = evaluator.evaluate(predictions_my_ratings)\n",
    "print(f\"Enhanced model - Root-mean-square error = {rmse}\")"
   ]
  },
  {
   "cell_type": "code",
   "execution_count": 0,
   "metadata": {
    "application/vnd.databricks.v1+cell": {
     "cellMetadata": {
      "byteLimit": 2048000,
      "rowLimit": 10000
     },
     "inputWidgets": {},
     "nuid": "391af69e-8582-4bd8-b609-34ddde166ce6",
     "showTitle": false,
     "title": ""
    }
   },
   "outputs": [],
   "source": [
    "from pyspark.sql import functions as F\n",
    "\n",
    "# Create a list of my rated movie IDs\n",
    "my_rated_movie_ids = [x[1] for x in my_rated_movies]\n",
    "\n",
    "# Filter out the movies I already rated.'~' sign will make sure not to include them.\n",
    "not_rated_df = movies_df.filter(~ movies_df['movieId'].isin(my_rated_movie_ids))\n",
    "\n",
    "# Rename the \"ID\" column to be \"movieId\", and add a column with my_user_id as \"userId\".\n",
    "my_unrated_movies_df = not_rated_df.withColumnRenamed('movieId','movieId').withColumn('userId',F.lit(0))\n",
    "\n",
    "# Use my_rating_model to predict ratings for the movies that I did not manually rate.\n",
    "predicted_ratings_df = model_my_ratings.transform(my_unrated_movies_df)"
   ]
  },
  {
   "cell_type": "markdown",
   "metadata": {
    "application/vnd.databricks.v1+cell": {
     "cellMetadata": {},
     "inputWidgets": {},
     "nuid": "2316cace-d83a-4001-b3da-240e50b16e63",
     "showTitle": false,
     "title": ""
    }
   },
   "source": [
    "#### Finding the best suited movie\n"
   ]
  },
  {
   "cell_type": "code",
   "execution_count": 0,
   "metadata": {
    "application/vnd.databricks.v1+cell": {
     "cellMetadata": {
      "byteLimit": 2048000,
      "rowLimit": 10000
     },
     "inputWidgets": {},
     "nuid": "78c8d9d2-985d-4965-8a87-49d0ec69081b",
     "showTitle": false,
     "title": ""
    }
   },
   "outputs": [
    {
     "output_type": "stream",
     "name": "stdout",
     "output_type": "stream",
     "text": [
      "+-------+------------------------+-------------------------------------------+------+----------+\n|movieId|title                   |genres                                     |userId|prediction|\n+-------+------------------------+-------------------------------------------+------+----------+\n|1      |Toy Story (1995)        |Adventure|Animation|Children|Comedy|Fantasy|0     |3.6149206 |\n|2      |Jumanji (1995)          |Adventure|Children|Fantasy                 |0     |3.5634315 |\n|3      |Grumpier Old Men (1995) |Comedy|Romance                             |0     |3.2482367 |\n|4      |Waiting to Exhale (1995)|Comedy|Drama|Romance                       |0     |2.9475908 |\n+-------+------------------------+-------------------------------------------+------+----------+\nonly showing top 4 rows\n\n"
     ]
    }
   ],
   "source": [
    "#some sample ratings\n",
    "predicted_ratings_df.show(4,truncate = False)"
   ]
  },
  {
   "cell_type": "markdown",
   "metadata": {
    "application/vnd.databricks.v1+cell": {
     "cellMetadata": {},
     "inputWidgets": {},
     "nuid": "682d70fb-a27b-4cbb-bb59-b27df61964a6",
     "showTitle": false,
     "title": ""
    }
   },
   "source": [
    "#### Recommendation for a Specific User"
   ]
  },
  {
   "cell_type": "code",
   "execution_count": 0,
   "metadata": {
    "application/vnd.databricks.v1+cell": {
     "cellMetadata": {
      "byteLimit": 2048000,
      "rowLimit": 10000
     },
     "inputWidgets": {},
     "nuid": "3d0e4db5-ae0d-4dfc-b1f4-b84b03ad8aec",
     "showTitle": false,
     "title": ""
    }
   },
   "outputs": [
    {
     "output_type": "stream",
     "name": "stdout",
     "output_type": "stream",
     "text": [
      "+------+--------------------+\n|userId|     recommendations|\n+------+--------------------+\n|     1|[{318, 4.2291145}...|\n+------+--------------------+\n\n"
     ]
    }
   ],
   "source": [
    "from pyspark.sql.functions import lit\n",
    "\n",
    "userId = 1\n",
    "\n",
    "# Create a DataFrame with a single row and the specified user ID\n",
    "user_df = spark.createDataFrame([(userId,)], [\"userId\"])\n",
    "\n",
    "# Make recommendations for the user subset\n",
    "user_recommendations = model_enhanced.recommendForUserSubset(user_df, 10)\n",
    "\n",
    "# Show the recommendations\n",
    "user_recommendations.show()\n"
   ]
  },
  {
   "cell_type": "code",
   "execution_count": 0,
   "metadata": {
    "application/vnd.databricks.v1+cell": {
     "cellMetadata": {
      "byteLimit": 2048000,
      "rowLimit": 10000
     },
     "inputWidgets": {},
     "nuid": "87da0d7c-fb68-465b-b53e-b7365e6bcc8f",
     "showTitle": false,
     "title": ""
    }
   },
   "outputs": [
    {
     "output_type": "stream",
     "name": "stdout",
     "output_type": "stream",
     "text": [
      "+------+-------+---------+\n|userId|movieId|   rating|\n+------+-------+---------+\n|     1|    318|4.2291145|\n|     1|   7153|4.1150975|\n|     1|     50|4.0999894|\n|     1|    260|4.0997667|\n|     1|   4993|4.0970488|\n|     1|   2571|4.0956964|\n|     1|   1196|4.0833473|\n|     1|   1198| 4.082751|\n|     1|   5952|4.0814753|\n|     1|  58559| 4.007797|\n+------+-------+---------+\n\n"
     ]
    }
   ],
   "source": [
    "from pyspark.sql.functions import explode\n",
    "\n",
    "# Explode the recommendations array\n",
    "user_recommendations_exploded = user_recommendations.select(\"userId\", explode(\"recommendations\").alias(\"recommendation\"))\n",
    "\n",
    "# Extract fields from the struct\n",
    "user_recommendations_formatted = user_recommendations_exploded.select(\"userId\", \"recommendation.movieId\", \"recommendation.rating\")\n",
    "\n",
    "# Show the formatted recommendations\n",
    "user_recommendations_formatted.show()\n"
   ]
  },
  {
   "cell_type": "markdown",
   "metadata": {
    "application/vnd.databricks.v1+cell": {
     "cellMetadata": {},
     "inputWidgets": {},
     "nuid": "6378f6c6-39e1-4026-b2bb-803c86ca9afd",
     "showTitle": false,
     "title": ""
    }
   },
   "source": [
    "## 2. Item-Based Recommendation "
   ]
  },
  {
   "cell_type": "code",
   "execution_count": 0,
   "metadata": {
    "application/vnd.databricks.v1+cell": {
     "cellMetadata": {
      "byteLimit": 2048000,
      "rowLimit": 10000
     },
     "inputWidgets": {},
     "nuid": "50ecb1f6-3ee2-4417-9f9c-1bb883b2e95d",
     "showTitle": false,
     "title": ""
    }
   },
   "outputs": [
    {
     "output_type": "stream",
     "name": "stdout",
     "output_type": "stream",
     "text": [
      "+------+-------+------+----------+\n|userId|movieId|rating| timestamp|\n+------+-------+------+----------+\n|     1|      2|   3.5|1112486027|\n|     1|     29|   3.5|1112484676|\n|     1|     32|   3.5|1112484819|\n|     1|     47|   3.5|1112484727|\n|     1|     50|   3.5|1112484580|\n+------+-------+------+----------+\nonly showing top 5 rows\n\n+-------+--------------------+--------------------+\n|movieId|               title|              genres|\n+-------+--------------------+--------------------+\n|      1|    Toy Story (1995)|Adventure|Animati...|\n|      2|      Jumanji (1995)|Adventure|Childre...|\n|      3|Grumpier Old Men ...|      Comedy|Romance|\n|      4|Waiting to Exhale...|Comedy|Drama|Romance|\n|      5|Father of the Bri...|              Comedy|\n+-------+--------------------+--------------------+\nonly showing top 5 rows\n\n"
     ]
    }
   ],
   "source": [
    "# Read the ratings file\n",
    "ratings_df = spark.read.csv('/databricks-datasets/cs110x/ml-20m/data-001/ratings.csv', header=True, inferSchema=True)\n",
    "\n",
    "# Read the movies file\n",
    "movies_df = spark.read.csv('/databricks-datasets/cs110x/ml-20m/data-001/movies.csv', header=True, inferSchema=True)\n",
    "\n",
    "# Show the first few rows of the DataFrames to verify\n",
    "ratings_df.show(5)\n",
    "movies_df.show(5)"
   ]
  },
  {
   "cell_type": "code",
   "execution_count": 0,
   "metadata": {
    "application/vnd.databricks.v1+cell": {
     "cellMetadata": {
      "byteLimit": 2048000,
      "rowLimit": 10000
     },
     "inputWidgets": {},
     "nuid": "94368549-cac7-48c6-a74b-6f0bc182b7cf",
     "showTitle": false,
     "title": ""
    }
   },
   "outputs": [],
   "source": [
    "from pyspark.sql.functions import udf\n",
    "from pyspark.ml.linalg import VectorUDT\n",
    "from pyspark.sql.types import ArrayType, DoubleType\n",
    "\n",
    "# Define a UDF to extract vector elements\n",
    "def extract_vector_elements(vec):\n",
    "    return vec.toArray().tolist()\n",
    "\n",
    "extract_vector_elements_udf = udf(extract_vector_elements, ArrayType(DoubleType()))\n",
    "\n",
    "# Apply the UDF to create a column for each genre\n",
    "vectorized_df = vectorized_df.withColumn(\"genre_array\", extract_vector_elements_udf(\"genre_vec\"))\n",
    "\n",
    "# Explode genre_array into separate columns\n",
    "for i in range(len(model.vocabulary)):\n",
    "    vectorized_df = vectorized_df.withColumn(f\"genre_{i}\", vectorized_df[\"genre_array\"][i])\n"
   ]
  },
  {
   "cell_type": "code",
   "execution_count": 0,
   "metadata": {
    "application/vnd.databricks.v1+cell": {
     "cellMetadata": {
      "byteLimit": 2048000,
      "rowLimit": 10000
     },
     "inputWidgets": {},
     "nuid": "2fec3f12-d9a1-4f09-a1c2-9855cc8ebcd0",
     "showTitle": false,
     "title": ""
    }
   },
   "outputs": [
    {
     "output_type": "stream",
     "name": "stdout",
     "output_type": "stream",
     "text": [
      "+-------+------+------+----------+--------------------+---------+\n|movieId|userId|rating| timestamp|               title|    genre|\n+-------+------+------+----------+--------------------+---------+\n|      2|     1|   3.5|1112486027|      Jumanji (1995)|Adventure|\n|      2|     1|   3.5|1112486027|      Jumanji (1995)| Children|\n|      2|     1|   3.5|1112486027|      Jumanji (1995)|  Fantasy|\n|     29|     1|   3.5|1112484676|City of Lost Chil...|Adventure|\n+-------+------+------+----------+--------------------+---------+\nonly showing top 4 rows\n\n"
     ]
    }
   ],
   "source": [
    "from pyspark.sql.functions import avg\n",
    "from pyspark.sql.functions import explode, split\n",
    "\n",
    "# Join the ratings and movies DataFrames on the movieId column\n",
    "movie_ratings_df = ratings_df.join(movies_df, 'movieId')\n",
    "\n",
    "# Split the genres string into a list and then explode the list into separate rows\n",
    "movie_ratings_df = movie_ratings_df.withColumn(\"genre\", explode(split(\"genres\", \"\\|\")))\n",
    "movie_ratings_df = movie_ratings_df.drop('genres')\n",
    "movie_ratings_df.show(4)"
   ]
  },
  {
   "cell_type": "markdown",
   "metadata": {
    "application/vnd.databricks.v1+cell": {
     "cellMetadata": {},
     "inputWidgets": {},
     "nuid": "62258866-dd84-4f4a-be90-3d050e64de0d",
     "showTitle": false,
     "title": ""
    }
   },
   "source": [
    "#### Feature Extraction"
   ]
  },
  {
   "cell_type": "code",
   "execution_count": 0,
   "metadata": {
    "application/vnd.databricks.v1+cell": {
     "cellMetadata": {
      "byteLimit": 2048000,
      "rowLimit": 10000
     },
     "inputWidgets": {},
     "nuid": "495ffea3-e16d-46b0-b004-e50db0cbcb4e",
     "showTitle": false,
     "title": ""
    }
   },
   "outputs": [],
   "source": [
    "from pyspark.ml.feature import CountVectorizer\n",
    "from pyspark.ml.feature import Tokenizer\n",
    "\n",
    "# Tokenize the genres\n",
    "tokenizer = Tokenizer(inputCol=\"genre\", outputCol=\"genre_tokens\")\n",
    "tokenized_df = tokenizer.transform(movie_ratings_df)\n",
    "\n",
    "# Convert genres to binary vector\n",
    "vectorizer = CountVectorizer(inputCol=\"genre_tokens\", outputCol=\"genre_vec\")\n",
    "model = vectorizer.fit(tokenized_df)\n",
    "vectorized_df = model.transform(tokenized_df)\n"
   ]
  },
  {
   "cell_type": "code",
   "execution_count": 0,
   "metadata": {
    "application/vnd.databricks.v1+cell": {
     "cellMetadata": {
      "byteLimit": 2048000,
      "rowLimit": 10000
     },
     "inputWidgets": {},
     "nuid": "7c89c7e6-8f38-4492-96ee-149afd457b51",
     "showTitle": false,
     "title": ""
    }
   },
   "outputs": [
    {
     "output_type": "stream",
     "name": "stdout",
     "output_type": "stream",
     "text": [
      "+-------+------+------+----------+--------------------+---------+------------+--------------+\n|movieId|userId|rating| timestamp|               title|    genre|genre_tokens|     genre_vec|\n+-------+------+------+----------+--------------------+---------+------------+--------------+\n|      2|     1|   3.5|1112486027|      Jumanji (1995)|Adventure| [adventure]|(22,[4],[1.0])|\n|      2|     1|   3.5|1112486027|      Jumanji (1995)| Children|  [children]|(22,[9],[1.0])|\n|      2|     1|   3.5|1112486027|      Jumanji (1995)|  Fantasy|   [fantasy]|(22,[8],[1.0])|\n|     29|     1|   3.5|1112484676|City of Lost Chil...|Adventure| [adventure]|(22,[4],[1.0])|\n|     29|     1|   3.5|1112484676|City of Lost Chil...|    Drama|     [drama]|(22,[0],[1.0])|\n+-------+------+------+----------+--------------------+---------+------------+--------------+\nonly showing top 5 rows\n\n"
     ]
    }
   ],
   "source": [
    "vectorized_df.show(5)"
   ]
  },
  {
   "cell_type": "markdown",
   "metadata": {
    "application/vnd.databricks.v1+cell": {
     "cellMetadata": {},
     "inputWidgets": {},
     "nuid": "9ff47f2f-8641-4bf0-bcd3-1eaa405ac215",
     "showTitle": false,
     "title": ""
    }
   },
   "source": [
    "#### User Profile Creation"
   ]
  },
  {
   "cell_type": "code",
   "execution_count": 0,
   "metadata": {
    "application/vnd.databricks.v1+cell": {
     "cellMetadata": {
      "byteLimit": 2048000,
      "rowLimit": 10000
     },
     "inputWidgets": {},
     "nuid": "00728307-c98a-49b0-9593-c4b01ed677e8",
     "showTitle": false,
     "title": ""
    }
   },
   "outputs": [],
   "source": [
    "from pyspark.sql.functions import col, when\n",
    "\n",
    "# Consider movies with a rating of 3.5 or higher as liked\n",
    "liked_movies_df = vectorized_df.withColumn(\"liked\", when(col(\"rating\") >= 3.5, 1).otherwise(0))\n",
    "\n",
    "from pyspark.sql import functions as F\n",
    "\n",
    "# List of genre columns to average\n",
    "genre_columns = [f\"genre_{i}\" for i in range(len(model.vocabulary))]\n",
    "\n",
    "# Calculate the average of each genre column for each user\n",
    "exprs = [F.avg(col).alias(col) for col in genre_columns]\n",
    "user_profiles_df = liked_movies_df.filter(\"liked = 1\").groupBy(\"userId\").agg(*exprs)"
   ]
  },
  {
   "cell_type": "code",
   "execution_count": 0,
   "metadata": {
    "application/vnd.databricks.v1+cell": {
     "cellMetadata": {
      "byteLimit": 2048000,
      "rowLimit": 10000
     },
     "inputWidgets": {},
     "nuid": "664b19c9-d2d4-4b02-8918-b8f4c41cecb5",
     "showTitle": false,
     "title": ""
    }
   },
   "outputs": [],
   "source": [
    "from pyspark.ml.linalg import Vectors\n",
    "from pyspark.sql.functions import udf\n",
    "from pyspark.sql.types import FloatType\n",
    "import numpy as np\n",
    "\n",
    "# Define a UDF to calculate cosine similarity\n",
    "def cosine_similarity(vec1, vec2):\n",
    "    return np.dot(vec1, vec2) / (np.linalg.norm(vec1) * np.linalg.norm(vec2))\n",
    "\n",
    "cosine_similarity_udf = udf(cosine_similarity, FloatType())\n",
    "\n",
    "# Broadcast user profiles for efficiency\n",
    "broadcast_user_profiles = spark.sparkContext.broadcast(user_profiles_df.collect())\n",
    "\n",
    "# Calculate similarity for each user and movie pair\n",
    "def calculate_similarity(movie_row):\n",
    "    similarities = []\n",
    "    for user_profile in broadcast_user_profiles.value:\n",
    "        similarity = cosine_similarity_udf(user_profile[\"user_profile\"], movie_row[\"genre_vec\"])\n",
    "        similarities.append((user_profile[\"userId\"], movie_row[\"movieId\"], similarity))\n",
    "    return similarities\n",
    "\n",
    "# Apply the similarity calculation\n",
    "similarities_df = vectorized_df.rdd.flatMap(calculate_similarity).toDF([\"userId\", \"movieId\", \"similarity\"])\n",
    "\n",
    "# Filter for top N recommendations for each user\n",
    "top_recommendations_df = similarities_df.groupBy(\"userId\").agg(expr(\"arg_max(similarity)\").alias(\"top_movieId\"))\n"
   ]
  },
  {
   "cell_type": "markdown",
   "metadata": {
    "application/vnd.databricks.v1+cell": {
     "cellMetadata": {},
     "inputWidgets": {},
     "nuid": "12e0bdb4-f3b6-4589-9d3b-b3ceb91af90f",
     "showTitle": false,
     "title": ""
    }
   },
   "source": [
    "#### Recommendation Generation"
   ]
  },
  {
   "cell_type": "code",
   "execution_count": 0,
   "metadata": {
    "application/vnd.databricks.v1+cell": {
     "cellMetadata": {
      "byteLimit": 2048000,
      "rowLimit": 10000
     },
     "inputWidgets": {},
     "nuid": "c4f06148-4ce1-41e7-8d98-c949248a854d",
     "showTitle": false,
     "title": ""
    }
   },
   "outputs": [],
   "source": [
    "top_recommendations_df.show(5)"
   ]
  }
 ],
 "metadata": {
  "application/vnd.databricks.v1+notebook": {
   "dashboards": [],
   "language": "python",
   "notebookMetadata": {
    "pythonIndentUnit": 2
   },
   "notebookName": "Movie_Lens_20M (1)",
   "widgets": {}
  }
 },
 "nbformat": 4,
 "nbformat_minor": 0
}
